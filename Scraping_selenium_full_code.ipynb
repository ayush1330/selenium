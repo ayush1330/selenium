{
 "cells": [
  {
   "cell_type": "code",
   "execution_count": 1,
   "id": "a9500dd2",
   "metadata": {},
   "outputs": [
    {
     "name": "stdout",
     "output_type": "stream",
     "text": [
      "Requirement already satisfied: selenium in c:\\python311\\lib\\site-packages (4.7.2)\n",
      "Requirement already satisfied: urllib3[socks]~=1.26 in c:\\python311\\lib\\site-packages (from selenium) (1.26.13)\n",
      "Requirement already satisfied: trio~=0.17 in c:\\python311\\lib\\site-packages (from selenium) (0.22.0)\n",
      "Requirement already satisfied: trio-websocket~=0.9 in c:\\python311\\lib\\site-packages (from selenium) (0.9.2)\n",
      "Requirement already satisfied: certifi>=2021.10.8 in c:\\python311\\lib\\site-packages (from selenium) (2022.12.7)\n",
      "Requirement already satisfied: attrs>=19.2.0 in c:\\python311\\lib\\site-packages (from trio~=0.17->selenium) (22.1.0)\n",
      "Requirement already satisfied: sortedcontainers in c:\\python311\\lib\\site-packages (from trio~=0.17->selenium) (2.4.0)\n",
      "Requirement already satisfied: async-generator>=1.9 in c:\\python311\\lib\\site-packages (from trio~=0.17->selenium) (1.10)\n",
      "Requirement already satisfied: idna in c:\\python311\\lib\\site-packages (from trio~=0.17->selenium) (3.4)\n",
      "Requirement already satisfied: outcome in c:\\python311\\lib\\site-packages (from trio~=0.17->selenium) (1.2.0)\n",
      "Requirement already satisfied: sniffio in c:\\python311\\lib\\site-packages (from trio~=0.17->selenium) (1.3.0)\n",
      "Requirement already satisfied: cffi>=1.14 in c:\\python311\\lib\\site-packages (from trio~=0.17->selenium) (1.15.1)\n",
      "Requirement already satisfied: wsproto>=0.14 in c:\\python311\\lib\\site-packages (from trio-websocket~=0.9->selenium) (1.2.0)\n",
      "Requirement already satisfied: PySocks!=1.5.7,<2.0,>=1.5.6 in c:\\python311\\lib\\site-packages (from urllib3[socks]~=1.26->selenium) (1.7.1)\n",
      "Requirement already satisfied: pycparser in c:\\python311\\lib\\site-packages (from cffi>=1.14->trio~=0.17->selenium) (2.21)\n",
      "Requirement already satisfied: h11<1,>=0.9.0 in c:\\python311\\lib\\site-packages (from wsproto>=0.14->trio-websocket~=0.9->selenium) (0.14.0)\n",
      "Note: you may need to restart the kernel to use updated packages.\n"
     ]
    }
   ],
   "source": [
    "pip install selenium"
   ]
  },
  {
   "cell_type": "code",
   "execution_count": 2,
   "id": "ac52d413",
   "metadata": {},
   "outputs": [
    {
     "name": "stderr",
     "output_type": "stream",
     "text": [
      "C:\\Users\\ayush\\AppData\\Local\\Temp\\ipykernel_15232\\2283983398.py:23: DeprecationWarning: executable_path has been deprecated, please pass in a Service object\n",
      "  driver = webdriver.Chrome(path)\n"
     ]
    },
    {
     "name": "stdout",
     "output_type": "stream",
     "text": [
      "logged in sucessfully\n",
      "program ran\n"
     ]
    }
   ],
   "source": [
    "import time\n",
    "from selenium import webdriver\n",
    "from selenium.webdriver.common.keys import Keys\n",
    "from selenium.webdriver.common.by import By\n",
    "from selenium.webdriver.support.ui import WebDriverWait\n",
    "from selenium.webdriver.support import expected_conditions as EC\n",
    "from selenium.webdriver.support.ui import Select\n",
    "import os\n",
    "import pandas as pd\n",
    "import numpy as np\n",
    "#import openpyxl as pxl\n",
    "from datetime import date, timedelta\n",
    "from dateutil.relativedelta import relativedelta\n",
    "\n",
    "username = \"1915\"\n",
    "password = \"Ayush@1330\"\n",
    "\n",
    "url = \"https://grandviewresearch.greythr.com\"\n",
    "\n",
    "\n",
    "#driver path\n",
    "path = r\"C:\\Users\\ayush\\Downloads/chromedriver\"\n",
    "driver = webdriver.Chrome(path)\n",
    "\n",
    "\n",
    "#accessing url\n",
    "driver.get(url)\n",
    "\n",
    "#wait\n",
    "wait = WebDriverWait(driver, 20)\n",
    "wait.until(EC.element_to_be_clickable((By.XPATH, '/html/body/app-root/uas-portal/div/div/main/div/section/div[1]/o-auth/section/div/app-login/section/div/div/div/form/div[1]/div/input')))\n",
    "\n",
    "#login\n",
    "driver.find_element(By.ID,\"username\").send_keys(username)\n",
    "driver.find_element(By.ID,'password').send_keys(password)\n",
    "driver.find_element(By.XPATH,'/html/body/app-root/uas-portal/div/div/main/div/section/div[1]/o-auth/section/div/app-login/section/div/div/div/form/button').click()\n",
    "\n",
    "print(\"logged in sucessfully\")\n",
    "\n",
    "'''#for delay in program\n",
    "time.sleep(10)\n",
    "wait.until(EC.element_to_be_clickable((By.XPATH, '/html/body/app/ng-component/div/div/div[2]/div/ghr-home/div[2]/div/gt-home-dashboard/div/div[4]/gt-component-loader/gt-payslip-widget/div/header/span')))\n",
    "\n",
    "#search salary\n",
    "driver.find_element(By.XPATH,'/html/body/app/ng-component/div/div/div[2]/div/ghr-home/div[2]/div/gt-home-dashboard/div/div[4]/gt-component-loader/gt-payslip-widget/div/header/span').click()\n",
    "\n",
    "#for delay in program\n",
    "time.sleep(10)\n",
    "wait.until(EC.element_to_be_clickable((By.XPATH, '/html/body/app/ng-component/div/div/div[2]/div/ng-component/div/div[1]/ng-component/payslip-data-display/div/div[1]/gt-select-box/div[2]/button/span[1]')))\n",
    "\n",
    "#select month\n",
    "#month_payslip = driver.find_element(By.CSS_SELECTOR,'body > app > ng-component > div > div > div.container-fluid.app-container.px-0 > div > ng-component > div > div.col-md-12.col-lg-12 > ng-component > payslip-data-display > div > div.download-btn > gt-select-box > div.select-box-container.btn-group > button > span.label-name.ng-star-inserted').click()\n",
    "#month_payslip = driver.find_element(By.XPATH, '/html/body/app/ng-component/div/div/div[2]/div/ng-component/div/div[1]/ng-component/payslip-data-display/div/div[1]/gt-select-box/div[2]/button/span[1]').click()\n",
    "monthDD = Select(driver.find_element(By.XPATH, '/html/body/app/ng-component/div/div/div[2]/div/ng-component/div/div[1]/ng-component/payslip-data-display/div/div[1]/gt-select-box/div[2]/button/span[1]').click())\n",
    "monthDD.select_by_index(1)\n",
    "\n",
    "#for delay in program\n",
    "#time.sleep(20)\n",
    "#wait.until(EC.element_to_be_clickable((By.XPATH, '/html/body/app/ng-component/div/div/div[2]/div/ng-component/div/div[1]/ng-component/payslip-data-display/div/div[1]/div/button')))\n",
    "\n",
    "#download payslip\n",
    "#driver.find_element(By.XPATH,'/html/body/app/ng-component/div/div/div[2]/div/ng-component/div/div[1]/ng-component/payslip-data-display/div/div[1]/div/button').click()\n",
    "'''\n",
    "print(\"program ran\")\n"
   ]
  },
  {
   "cell_type": "code",
   "execution_count": 16,
   "id": "9cf46c65",
   "metadata": {},
   "outputs": [
    {
     "name": "stdout",
     "output_type": "stream",
     "text": [
      "file sent\n"
     ]
    }
   ],
   "source": [
    "from email.message import EmailMessage\n",
    "import ssl\n",
    "import smtplib\n",
    "import glob\n",
    "em = EmailMessage()\n",
    "\n",
    "email_sender = \"ayushtechuseexample@gmail.com\"\n",
    "email_password= 'grexpmtzokanvibb'\n",
    "email_receiver = 'rajputayushsingh.07@gmail.com'\n",
    "subject = 'check out this mail'\n",
    "body = \"\"\"\n",
    "this is python generated mail, jane lag gaya mail :)\n",
    "\"\"\"\n",
    "\n",
    "em['From'] = email_sender\n",
    "em['To'] = email_receiver\n",
    "em['Subject'] = subject\n",
    "em.set_content(body)\n",
    "\n",
    "context = ssl.create_default_context()\n",
    "\n",
    "\n",
    "#with open('python_example_file.txt') as my_file:\n",
    "   # data = my_file.read()\n",
    "   # em.set_content(data)\n",
    "\n",
    "with open(r\"C:\\Users\\ayush\\Downloads/Payslip_Sep_2022.pdf\", 'rb') as f:\n",
    "    data_file = f.read()\n",
    "    file_name = f.name\n",
    "    em.add_attachment(data_file, maintype = 'application', subtype = 'pdf', filename = file_name)   \n",
    "    \n",
    "\n",
    "with smtplib.SMTP_SSL('smtp.gmail.com',465, context = context) as smtp:\n",
    "    smtp.login(email_sender, email_password)\n",
    "    smtp.sendmail(email_sender, email_receiver, em.as_string())\n",
    "    \n",
    "print(\"file sent\")    \n"
   ]
  },
  {
   "cell_type": "code",
   "execution_count": 14,
   "id": "47d481ed",
   "metadata": {},
   "outputs": [
    {
     "name": "stdout",
     "output_type": "stream",
     "text": [
      "['C:\\\\Users\\\\ayush\\\\Downloads\\\\stream 2.pdf', 'C:\\\\Users\\\\ayush\\\\Downloads\\\\stream0.pdf', 'C:\\\\Users\\\\ayush\\\\Downloads\\\\stream1.pdf']\n"
     ]
    }
   ],
   "source": [
    "import glob\n",
    "list = glob.glob(r\"C:\\Users\\ayush\\Downloads\" + \"/stream?*pdf\")\n",
    "print(list)"
   ]
  },
  {
   "cell_type": "code",
   "execution_count": null,
   "id": "6ff6aff8",
   "metadata": {},
   "outputs": [],
   "source": []
  }
 ],
 "metadata": {
  "kernelspec": {
   "display_name": "Python 3 (ipykernel)",
   "language": "python",
   "name": "python3"
  },
  "language_info": {
   "codemirror_mode": {
    "name": "ipython",
    "version": 3
   },
   "file_extension": ".py",
   "mimetype": "text/x-python",
   "name": "python",
   "nbconvert_exporter": "python",
   "pygments_lexer": "ipython3",
   "version": "3.11.0"
  }
 },
 "nbformat": 4,
 "nbformat_minor": 5
}
