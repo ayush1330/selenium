{
 "cells": [
  {
   "cell_type": "code",
   "execution_count": null,
   "id": "59681a09",
   "metadata": {},
   "outputs": [],
   "source": [
    "from selenium import webdriver\n",
    "from selenium.webdriver.common.keys import Keys\n",
    "from selenium.webdriver.common.by import By\n",
    "from selenium.webdriver.support.ui import WebDriverWait\n",
    "from selenium.webdriver.support import expected_conditions as EC\n",
    "from selenium.webdriver.support.ui import Select\n",
    "import os\n",
    "import pandas as pd\n",
    "import numpy as np\n",
    "import openpyxl as pxl\n",
    "import time\n",
    "from datetime import date, timedelta\n",
    "from dateutil.relativedelta import relativedelta\n",
    "\n",
    "\n",
    "#driver path\n",
    "path = r\"\\Users\\User\\Downloads/chromedriver\"\n",
    "driver = webdriver.Chrome(path)\n",
    "\n",
    "\n",
    "#accessing url\n",
    "driver.get(\"https://www.igb.illinois.gov/VideoReports.aspx\")\n",
    "\n",
    "#wait\n",
    "wait = WebDriverWait(driver, 20)\n",
    "element = wait.until(EC.element_to_be_clickable((By.XPATH, '//*[@id=\"ctl00_MainPlaceHolder_TypeMuni\"]')))\n",
    "\n",
    "#selecting Municipality\n",
    "driver.find_element_by_xpath('//*[@id=\"ctl00_MainPlaceHolder_TypeMuni\"]').click()\n",
    "\n",
    "#Selecting Municipality\n",
    "Municipal = Select(driver.find_element_by_css_selector('#ctl00_MainPlaceHolder_SearchMunicipality'))\n",
    "Municipal.select_by_visible_text(location)"
   ]
  }
 ],
 "metadata": {
  "kernelspec": {
   "display_name": "Python 3 (ipykernel)",
   "language": "python",
   "name": "python3"
  },
  "language_info": {
   "codemirror_mode": {
    "name": "ipython",
    "version": 3
   },
   "file_extension": ".py",
   "mimetype": "text/x-python",
   "name": "python",
   "nbconvert_exporter": "python",
   "pygments_lexer": "ipython3",
   "version": "3.9.12"
  }
 },
 "nbformat": 4,
 "nbformat_minor": 5
}
